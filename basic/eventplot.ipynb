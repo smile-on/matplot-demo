{
 "cells": [
  {
   "cell_type": "markdown",
   "metadata": {},
   "source": [
    "## eventplot"
   ]
  },
  {
   "cell_type": "code",
   "execution_count": 1,
   "metadata": {},
   "outputs": [],
   "source": [
    "import numpy as np\n",
    "import matplotlib.pyplot as plt"
   ]
  },
  {
   "cell_type": "code",
   "execution_count": 2,
   "metadata": {},
   "outputs": [],
   "source": [
    "np.random.seed(2)\n",
    "data = np.around(np.random.gamma(4, size=[3, 2]), decimals=1)"
   ]
  },
  {
   "cell_type": "code",
   "execution_count": 3,
   "metadata": {},
   "outputs": [
    {
     "name": "stdout",
     "output_type": "stream",
     "text": [
      "[[2.9 3.6]\n",
      " [1.2 2.3]\n",
      " [2.  2.2]]\n",
      "[1.2 2.  2.2 2.3 2.9 3.6]\n"
     ]
    },
    {
     "data": {
      "image/png": "[encoded data removed]",
      "text/plain": [
       "<Figure size 432x288 with 2 Axes>"
      ]
     },
     "metadata": {
      "needs_background": "light"
     },
     "output_type": "display_data"
    }
   ],
   "source": [
    "# An eventplot showing sequences of events with various line properties.\n",
    "fig, axs = plt.subplots(2, 1)\n",
    "axs[0].eventplot(data, linelengths=0.1, lineoffsets=0)\n",
    "# each data row has its property\n",
    "lineoffsets1 = np.array([-2, 0, 2])\n",
    "linelengths1 = [2, 1, 1.5]\n",
    "colors1 = ['C{}'.format(i) for i in range(3)] \n",
    "axs[1].eventplot(data, linelengths=linelengths1, lineoffsets=lineoffsets1, colors=colors1)\n",
    "\n",
    "print(data)\n",
    "print(np.sort(data, axis=None))"
   ]
  },
  {
   "cell_type": "code",
   "execution_count": null,
   "metadata": {},
   "outputs": [],
   "source": []
  }
 ],
 "metadata": {
  "kernelspec": {
   "display_name": "Python 3",
   "language": "python",
   "name": "python3"
  },
  "language_info": {
   "codemirror_mode": {
    "name": "ipython",
    "version": 3
   },
   "file_extension": ".py",
   "mimetype": "text/x-python",
   "name": "python",
   "nbconvert_exporter": "python",
   "pygments_lexer": "ipython3",
   "version": "3.6.8"
  }
 },
 "nbformat": 4,
 "nbformat_minor": 4
}

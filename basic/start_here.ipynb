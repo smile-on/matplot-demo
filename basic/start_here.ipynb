{
 "cells": [
  {
   "cell_type": "markdown",
   "metadata": {},
   "source": [
    "## Basic examples\n",
    "Matplot library is an old software, has lots of legacy calls. It is better to start learning with understandiding [basic concepts](http://matplotlib.org/faq/usage_faq.html#general-concepts) rather than jump to wondering with API calls directly.\n",
    "\n",
    "This tutorialuses **new matplot coding** style. It is found very useful in real life that always needs more information on a \"simple\" page. Here is typical **Data Scientist** cell in new style."
   ]
  },
  {
   "cell_type": "code",
   "execution_count": 17,
   "metadata": {},
   "outputs": [
    {
     "data": {
      "image/png": "[encoded data removed]",
      "text/plain": [
       "<matplotlib.figure.Figure at 0x88fabe0>"
      ]
     },
     "metadata": {},
     "output_type": "display_data"
    }
   ],
   "source": [
    "import matplotlib.pyplot as plt\n",
    "import numpy as np\n",
    "\n",
    "x = np.arange(0.1, 4, 0.5)\n",
    "y = np.exp(-x)\n",
    "\n",
    "# New matplot \"object\" coding style: Use Axes!\n",
    "fig = plt.figure()            # a page\n",
    "ax = fig.add_subplot(1, 1, 1) # has grig of drawings (axes)\n",
    "ax.set_title('Simple plot')   # for each ax, say what it is\n",
    "ax.plot(x, y)                 # how to draw it\n",
    "plt.show()                    # let matplot show it"
   ]
  },
  {
   "cell_type": "markdown",
   "metadata": {},
   "source": [
    "Even better, keep these steps of Data Science in separate cells!\n",
    "1. Check all dependencies you need.\n",
    "2. Get the data.\n",
    "3. Process data.\n",
    "4. Show result to support your analysis."
   ]
  },
  {
   "cell_type": "code",
   "execution_count": null,
   "metadata": {
    "collapsed": true
   },
   "outputs": [],
   "source": [
    "# Check all dependencies you need.\n",
    "# It runs once, works in all cells below.\n",
    "import matplotlib.pyplot as plt\n",
    "import numpy as np"
   ]
  },
  {
   "cell_type": "code",
   "execution_count": null,
   "metadata": {
    "collapsed": true
   },
   "outputs": [],
   "source": [
    "# Get the data.\n",
    "x = np.arange(0.1, 4, 0.5) "
   ]
  },
  {
   "cell_type": "code",
   "execution_count": null,
   "metadata": {
    "collapsed": true
   },
   "outputs": [],
   "source": [
    "# process the data\n",
    "y = np.exp(-x) # your complex model y=h(x) :)"
   ]
  },
  {
   "cell_type": "markdown",
   "metadata": {},
   "source": [
    "Evry data reporting task can be separated into formatting layout, separating page into areas of individual drawings (Axes) and coding actual drawings."
   ]
  },
  {
   "cell_type": "code",
   "execution_count": null,
   "metadata": {
    "collapsed": true
   },
   "outputs": [],
   "source": [
    "# Be consistent with API even if you start with one drawing on the page.\n",
    "\n",
    "# This is your grid layout point.\n",
    "ax = fig.add_subplot(1, 1, 1) \n",
    "\n",
    "# Keep plotting code separate from data processing\n",
    "def my_plotter(ax, data, param_dict=None):\n",
    "    ''' A helper function to make a connect-the-dot graph.\n",
    "    \n",
    "        :param ax : Axes\n",
    "            The axes to draw to\n",
    "        :param data : numpy arrays\n",
    "            the x,y of the dots.\n",
    "        :param param_dict: dict\n",
    "            Dictionary of kwargs to pass to matplot call.\n",
    "        :return: list\n",
    "            List of artists added\n",
    "    '''\n",
    "    pass\n",
    "\n",
    "my_plotter(ax, data, {'marker':'x'})"
   ]
  },
  {
   "cell_type": "markdown",
   "metadata": {},
   "source": [
    "# todo\n",
    "Next learning is separated in \n",
    "- how to layout drawings on the page. [Artist to decorate](https://matplotlib.org/users/artists.html)\n",
    "- how to plot data in one axes. \n",
    "\n",
    "Basic plots:\n",
    "\n",
    "`\n",
    "ax1.plot(x, y)\n",
    "ax2.hist(y)\n",
    "ax3.scatter(x, y)\n",
    "ax4.boxplot(y)\n",
    "ax5.loglog(x, y)\n",
    "ax6.semilogx(x, y)\n",
    "`\n",
    "\n",
    "Don't forget [http://matplotlib.org/gallery.html.](http://matplotlib.org/gallery.html.)"
   ]
  }
 ],
 "metadata": {
  "kernelspec": {
   "display_name": "Python 3",
   "language": "python",
   "name": "python3"
  },
  "language_info": {
   "codemirror_mode": {
    "name": "ipython",
    "version": 3
   },
   "file_extension": ".py",
   "mimetype": "text/x-python",
   "name": "python",
   "nbconvert_exporter": "python",
   "pygments_lexer": "ipython3",
   "version": "3.6.2"
  }
 },
 "nbformat": 4,
 "nbformat_minor": 2
}
